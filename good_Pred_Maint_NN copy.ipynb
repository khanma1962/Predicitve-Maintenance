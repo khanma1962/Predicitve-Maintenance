{
 "cells": [
  {
   "cell_type": "markdown",
   "metadata": {
    "id": "Zqzg5Zyz-3Dp"
   },
   "source": [
    "# Call all libraries "
   ]
  },
  {
   "cell_type": "code",
   "execution_count": 1,
   "metadata": {
    "colab": {
     "base_uri": "https://localhost:8080/",
     "height": 34
    },
    "executionInfo": {
     "elapsed": 346,
     "status": "ok",
     "timestamp": 1602615914151,
     "user": {
      "displayName": "Moe Khan",
      "photoUrl": "https://lh3.googleusercontent.com/a-/AOh14GihIfMaGkqmaWkIqJQMZkUikNd8fXA1cTUkxrAyMg=s64",
      "userId": "07011757049449668258"
     },
     "user_tz": 420
    },
    "id": "mMlqTDNE-gH3",
    "outputId": "e77b1234-25dc-4dc7-db77-307c3b6bc3a6"
   },
   "outputs": [
    {
     "name": "stdout",
     "output_type": "stream",
     "text": [
      "Done !!!\n"
     ]
    }
   ],
   "source": [
    "import pandas as pd\n",
    "import numpy as np\n",
    "import matplotlib.pyplot as plt\n",
    "import seaborn as sns\n",
    "from pathlib import Path\n",
    "\n",
    "from sklearn.linear_model import LogisticRegression\n",
    "from sklearn.metrics import accuracy_score\n",
    "from sklearn.preprocessing import StandardScaler, MinMaxScaler\n",
    "from sklearn.utils import resample\n",
    "from sklearn.metrics import roc_auc_score, roc_curve\n",
    "from sklearn.ensemble import RandomForestClassifier, AdaBoostClassifier, GradientBoostingClassifier\n",
    "from sklearn.svm import SVC\n",
    "from sklearn.model_selection import train_test_split, cross_val_score\n",
    "from sklearn.model_selection import RepeatedStratifiedKFold\n",
    "\n",
    "from pandas.plotting import scatter_matrix\n",
    "from sklearn.metrics import confusion_matrix\n",
    "from sklearn.metrics import classification_report\n",
    "\n",
    "from tensorflow.keras.models  import Model, Sequential\n",
    "from tensorflow.keras.layers import Input, Dense, Activation, Dropout, Conv2D, MaxPooling2D\n",
    "import tensorflow as tf\n",
    "from tensorflow import keras\n",
    "from tensorflow.keras.utils import plot_model\n",
    "from keras.regularizers import l2\n",
    "\n",
    "%matplotlib inline\n",
    "print('Done !!!')"
   ]
  },
  {
   "cell_type": "code",
   "execution_count": null,
   "metadata": {
    "id": "N-HOzBtGQqNn"
   },
   "outputs": [],
   "source": []
  },
  {
   "cell_type": "markdown",
   "metadata": {
    "id": "MzBbdugUQrmS"
   },
   "source": [
    "# Load Split and Scale Dataset"
   ]
  },
  {
   "cell_type": "code",
   "execution_count": 2,
   "metadata": {
    "colab": {
     "base_uri": "https://localhost:8080/",
     "height": 318
    },
    "executionInfo": {
     "elapsed": 12192,
     "status": "ok",
     "timestamp": 1602616985818,
     "user": {
      "displayName": "Moe Khan",
      "photoUrl": "https://lh3.googleusercontent.com/a-/AOh14GihIfMaGkqmaWkIqJQMZkUikNd8fXA1cTUkxrAyMg=s64",
      "userId": "07011757049449668258"
     },
     "user_tz": 420
    },
    "id": "PCEaJ1j2Kd4Q",
    "outputId": "b6b496ff-1ad4-42e1-a8a0-933284156bbc"
   },
   "outputs": [
    {
     "name": "stdout",
     "output_type": "stream",
     "text": [
      "Loaded Dateset\n",
      "X and y sizes are : (124494, 1177) (124494,)\n",
      "X_train, X_val, and X_test sizes are  (79676, 1177) (19919, 1177) (24899, 1177)\n",
      "failures in train, val, and test are : 68 17 21\n",
      "Train scaled [[-0.97369352 -0.07238345 -0.0527836  ... -0.02652057 -0.02652057\n",
      "  -0.02652057]\n",
      " [ 0.39424768 -0.07238345 -0.0527836  ... -0.02652057 -0.02652057\n",
      "  -0.02652057]\n",
      " [-0.31587299 -0.07238345 -0.0527836  ... -0.02652057 -0.02652057\n",
      "  -0.02652057]] [0 0 0]\n",
      "Val scaled [[-0.58162403 -0.07780312 -0.04679123 ... -0.02004465 -0.02004465\n",
      "  -0.02922645]\n",
      " [-0.30806979  0.31390308 -0.04679123 ... -0.02004465 -0.02004465\n",
      "  -0.02922645]\n",
      " [-0.61658652 -0.07780312 -0.04679123 ... -0.02004465 -0.02004465\n",
      "  -0.02922645]] [0 0 0]\n",
      "Test scaled [[ 1.11143262 -0.07232987 -0.07399279 ... -0.02835297 -0.02835297\n",
      "  -0.02004455]\n",
      " [-0.30671014 -0.07232987 -0.07399279 ... -0.02835297 -0.02835297\n",
      "  -0.02004455]\n",
      " [-1.11532076 -0.07232987 -0.07399279 ... -0.02835297 -0.02835297\n",
      "  -0.02004455]] [0 0 0]\n",
      "Done !!!\n"
     ]
    }
   ],
   "source": [
    "\n",
    "def load_split_scale():\n",
    "  \n",
    "#     file_dir = Path('/content/drive/My Drive/Data_Science/projects/predictive_maintenance/data')\n",
    "    file_dir = Path('/Users/khan_m_a/Google Drive/Data_Science/projects/predictive_maintenance/data')\n",
    "\n",
    "\n",
    "    df_one_hot = pd.read_csv( file_dir / 'df_one_hot.csv',\n",
    "                 parse_dates = True, index_col = 'date',\n",
    "                 delimiter = ',')\n",
    "    print('Loaded Dateset')\n",
    "\n",
    "    # make X and y \n",
    "    X = df_one_hot.drop('failure', axis =1).values\n",
    "    y = df_one_hot.failure.values\n",
    "\n",
    "    # check sizes\n",
    "    print('X and y sizes are :', X.shape, y.shape)\n",
    "\n",
    "    # make statify = y for imbalanced dataset\n",
    "    X_train1, X_test, y_train1, y_test = train_test_split(X, y, \n",
    "                              test_size = 0.2, stratify = y )\n",
    "    \n",
    "    X_train, X_val, y_train, y_val = train_test_split(X_train1, y_train1, \n",
    "                              test_size = 0.2, stratify =  y_train1)\n",
    "    \n",
    "    print('X_train, X_val, and X_test sizes are ', X_train.shape, X_val.shape, X_test.shape )\n",
    "    \n",
    "    # check if failure is equally distribute.\n",
    "    print('failures in train, val, and test are :', y_train.sum(), y_val.sum(), y_test.sum())\n",
    "    \n",
    "\n",
    "    # Apply standardization to X_train and X_test\n",
    "    # scaler = MinMaxScaler()\n",
    "    scaler1, scaler2, scaler3 = StandardScaler(), StandardScaler(), StandardScaler()\n",
    "    X_train = scaler1.fit_transform(X_train) # fit and transform on X_train\n",
    "    X_val = scaler2.fit_transform(X_val) # fit and transform X_val\n",
    "    X_test = scaler3.fit_transform(X_test) # fit and transform X_test\n",
    "    \n",
    "    # remove all point above and below 5   \n",
    "    X_train = np.clip(X_train, -5, 5)\n",
    "    X_test = np.clip(X_test, -5, 5)\n",
    "    X_val = np.clip(X_val, -5, 5)\n",
    "    \n",
    "    # check scaled \n",
    "    print('Train scaled', X_train[0:3], y[0:3])\n",
    "    print('Val scaled', X_val[0:3], y[0:3])\n",
    "    print('Test scaled', X_test[0:3], y[0:3])\n",
    "    \n",
    "    return df_one_hot, X_train, X_val, X_test, y_train, y_val, y_test\n",
    "\n",
    "\n",
    "df_one_hot, X_train, X_val, X_test, y_train, y_val, y_test = load_split_scale()\n",
    "print('Done !!!')"
   ]
  },
  {
   "cell_type": "code",
   "execution_count": 3,
   "metadata": {
    "id": "tTVbcA4tQqJ9"
   },
   "outputs": [
    {
     "name": "stdout",
     "output_type": "stream",
     "text": [
      "Total num of failures 106 out of 124494\n",
      "Percentage of failures = 0.09 %\n"
     ]
    }
   ],
   "source": [
    "failed = df_one_hot['failure'].sum()\n",
    "not_failed =  df_one_hot.shape[0] - failed\n",
    "print('Total num of failures {} out of {}'.format(df_one_hot['failure'].sum(), df_one_hot.shape[0]))\n",
    "print('Percentage of failures = {0:.2f} %'.format(100 * df_one_hot['failure'].sum() / df_one_hot.shape[0]))"
   ]
  },
  {
   "cell_type": "code",
   "execution_count": 4,
   "metadata": {
    "id": "LJRp1ilYIcJ3"
   },
   "outputs": [
    {
     "name": "stdout",
     "output_type": "stream",
     "text": [
      "[-7.0677219]\n"
     ]
    }
   ],
   "source": [
    "#https://www.tensorflow.org/tutorials/structured_data/imbalanced_data\n",
    "failed\n",
    "output_bias = np.log([failed / not_failed])\n",
    "print(output_bias)"
   ]
  },
  {
   "cell_type": "code",
   "execution_count": null,
   "metadata": {},
   "outputs": [],
   "source": []
  },
  {
   "cell_type": "markdown",
   "metadata": {
    "id": "NcV72Dj2_X11"
   },
   "source": [
    "# Deep Learning Models"
   ]
  },
  {
   "cell_type": "code",
   "execution_count": 5,
   "metadata": {},
   "outputs": [],
   "source": [
    "# https://www.tensorflow.org/tutorials/structured_data/imbalanced_data\n",
    "\n",
    "#http://karpathy.github.io/2019/04/25/recipe/#2-set-up-the-end-to-end-trainingevaluation-skeleton--get-dumb-baselines\n"
   ]
  },
  {
   "cell_type": "code",
   "execution_count": 206,
   "metadata": {
    "executionInfo": {
     "elapsed": 350,
     "status": "ok",
     "timestamp": 1602629651293,
     "user": {
      "displayName": "Moe Khan",
      "photoUrl": "https://lh3.googleusercontent.com/a-/AOh14GihIfMaGkqmaWkIqJQMZkUikNd8fXA1cTUkxrAyMg=s64",
      "userId": "07011757049449668258"
     },
     "user_tz": 420
    },
    "id": "pjjUgt3qjICZ"
   },
   "outputs": [],
   "source": [
    "# Create a dense model with class_weights\n",
    "\n",
    "'''\n",
    "                    Predicted\n",
    "                  0          1\n",
    "        0         TN         FP\n",
    "Actual \n",
    "        1         FN         TP\n",
    "'''\n",
    "\n",
    "metrics_nn = [\n",
    "      keras.metrics.TruePositives(name='tp'),\n",
    "      keras.metrics.FalsePositives(name='fp'),\n",
    "      keras.metrics.TrueNegatives(name='tn'),\n",
    "      keras.metrics.FalseNegatives(name='fn'), \n",
    "      keras.metrics.BinaryAccuracy(name='accuracy'), # true samples/ total samples\n",
    "      keras.metrics.Precision(name='precision'), # TP /(TP + FP)\n",
    "      keras.metrics.Recall(name='recall'), # TP /(TP + FN)\n",
    "#       keras.metrics.AUC(name='auc')\n",
    "        ]\n",
    "\n",
    "def my_nn_model_weight(output_bias =0 ):\n",
    "  output_bias = tf.keras.initializers.Constant(output_bias)\n",
    "  model = keras.Sequential([\n",
    "                  keras.layers.Input(shape = ( X_train.shape[1])),#, name = ' input_layer'),\n",
    "                  keras.layers.Dense(10, activation = 'relu'),#,kernel_regularizer=l2(0.0001),name = 'layer1'),\n",
    "                  keras.layers.Dropout(0.1),                  \n",
    "                  keras.layers.Dense(5, activation = 'tanh'),#'relu',name = 'layer2'),\n",
    "                  keras.layers.Dropout(0.1),\n",
    "                  keras.layers.Dense(1, activation = 'sigmoid', \n",
    "                                     bias_initializer = output_bias, name = 'final_layer')\n",
    "\n",
    "                           ])\n",
    "  model.compile( optimizer = tf.keras.optimizers.Adam(lr = 0.005, decay = 0.0000001),\n",
    "                loss = tf.keras.losses.BinaryCrossentropy(from_logits = False),\n",
    "                metrics  = metrics_nn#['accuracy']\n",
    "                \n",
    "                )\n",
    "  return model"
   ]
  },
  {
   "cell_type": "code",
   "execution_count": 207,
   "metadata": {},
   "outputs": [],
   "source": [
    "# Class weight \n",
    "failed = df_one_hot['failure'].sum()\n",
    "not_failed =  df_one_hot.shape[0] - failed\n",
    "# total/2 will apply equal weight\n",
    "weight_failed = (1/failed) * df_one_hot.shape[0]/2\n",
    "weight_not_failed = (1/not_failed) * df_one_hot.shape[0]/2\n",
    "class_weight = {0: weight_failed / 1 , 1: weight_not_failed * 1}"
   ]
  },
  {
   "cell_type": "code",
   "execution_count": 268,
   "metadata": {},
   "outputs": [
    {
     "name": "stdout",
     "output_type": "stream",
     "text": [
      "Model: \"sequential\"\n",
      "_________________________________________________________________\n",
      "Layer (type)                 Output Shape              Param #   \n",
      "=================================================================\n",
      "dense (Dense)                (None, 10)                11780     \n",
      "_________________________________________________________________\n",
      "dropout (Dropout)            (None, 10)                0         \n",
      "_________________________________________________________________\n",
      "dense_1 (Dense)              (None, 5)                 55        \n",
      "_________________________________________________________________\n",
      "dropout_1 (Dropout)          (None, 5)                 0         \n",
      "_________________________________________________________________\n",
      "final_layer (Dense)          (None, 1)                 6         \n",
      "=================================================================\n",
      "Total params: 11,841\n",
      "Trainable params: 11,841\n",
      "Non-trainable params: 0\n",
      "_________________________________________________________________\n"
     ]
    }
   ],
   "source": [
    "tf.keras.backend.clear_session() # initialize the model\n",
    "model_weighted = None\n",
    "\n",
    "# create a new model\n",
    "model_weighted = my_nn_model_weight(output_bias)\n",
    "model_weighted.summary()\n",
    "# layer1 = (1177 * 32) + 32 = 37696\n",
    "# layer2 = (32 * 10 ) + 10 = 330\n",
    "#final_layer = (10 * 1 ) + 1 = 11\n",
    "\n",
    "\n",
    "#fit the model with class_weight\n",
    "EPOCHS = 10\n",
    "BATCH_SIZE = 32\n",
    "\n",
    "history_weighted = model_weighted.fit(X_train, y_train, class_weight = class_weight,\n",
    "                    batch_size = BATCH_SIZE, epochs = EPOCHS,\n",
    "                    verbose = 0, validation_data=(X_val, y_val))"
   ]
  },
  {
   "cell_type": "code",
   "execution_count": 269,
   "metadata": {
    "colab": {
     "base_uri": "https://localhost:8080/",
     "height": 638
    },
    "executionInfo": {
     "elapsed": 361,
     "status": "ok",
     "timestamp": 1602629652702,
     "user": {
      "displayName": "Moe Khan",
      "photoUrl": "https://lh3.googleusercontent.com/a-/AOh14GihIfMaGkqmaWkIqJQMZkUikNd8fXA1cTUkxrAyMg=s64",
      "userId": "07011757049449668258"
     },
     "user_tz": 420
    },
    "id": "HWzt1tQb-gmz",
    "outputId": "8303482a-4f29-496a-e60b-ca4d3c27da3c"
   },
   "outputs": [],
   "source": [
    "# model_weighted.weights"
   ]
  },
  {
   "cell_type": "code",
   "execution_count": 270,
   "metadata": {
    "colab": {
     "base_uri": "https://localhost:8080/",
     "height": 422
    },
    "executionInfo": {
     "elapsed": 583,
     "status": "ok",
     "timestamp": 1602629653275,
     "user": {
      "displayName": "Moe Khan",
      "photoUrl": "https://lh3.googleusercontent.com/a-/AOh14GihIfMaGkqmaWkIqJQMZkUikNd8fXA1cTUkxrAyMg=s64",
      "userId": "07011757049449668258"
     },
     "user_tz": 420
    },
    "id": "lT3964A6jIPu",
    "outputId": "7e53e943-afe7-46ad-f7e9-a8d94ae62964"
   },
   "outputs": [
    {
     "data": {
      "image/png": "[encoded data removed]",
      "text/plain": [
       "<IPython.core.display.Image object>"
      ]
     },
     "execution_count": 270,
     "metadata": {},
     "output_type": "execute_result"
    }
   ],
   "source": [
    "plot_model(model_weighted, show_shapes = True)"
   ]
  },
  {
   "cell_type": "code",
   "execution_count": 271,
   "metadata": {},
   "outputs": [
    {
     "name": "stdout",
     "output_type": "stream",
     "text": [
      "2490/2490 - 2s - loss: 0.0117 - tp: 0.0000e+00 - fp: 0.0000e+00 - tn: 79608.0000 - fn: 68.0000 - accuracy: 0.9991 - precision: 0.0000e+00 - recall: 0.0000e+00\n",
      "623/623 - 1s - loss: 0.0123 - tp: 0.0000e+00 - fp: 0.0000e+00 - tn: 19902.0000 - fn: 17.0000 - accuracy: 0.9991 - precision: 0.0000e+00 - recall: 0.0000e+00\n",
      "779/779 - 1s - loss: 0.0120 - tp: 0.0000e+00 - fp: 0.0000e+00 - tn: 24878.0000 - fn: 21.0000 - accuracy: 0.9992 - precision: 0.0000e+00 - recall: 0.0000e+00\n",
      "Test loss 0.011982164345681667\n",
      "Val loss 0.012312865816056728\n",
      "Test loss 0.011982164345681667\n"
     ]
    }
   ],
   "source": [
    "# Evaluate\n",
    "score_tr = model_weighted.evaluate(X_train, y_train, verbose = 2)\n",
    "score_val = model_weighted.evaluate(X_val, y_val, verbose = 2)\n",
    "score_te = model_weighted.evaluate(X_test, y_test, verbose = 2)\n",
    "print('Test loss', score_te[0])\n",
    "print('Val loss', score_val[0])\n",
    "print('Test loss', score_te[0])"
   ]
  },
  {
   "cell_type": "code",
   "execution_count": null,
   "metadata": {
    "executionInfo": {
     "elapsed": 64502,
     "status": "ok",
     "timestamp": 1602629717461,
     "user": {
      "displayName": "Moe Khan",
      "photoUrl": "https://lh3.googleusercontent.com/a-/AOh14GihIfMaGkqmaWkIqJQMZkUikNd8fXA1cTUkxrAyMg=s64",
      "userId": "07011757049449668258"
     },
     "user_tz": 420
    },
    "id": "6KuXXPqdjIUE"
   },
   "outputs": [],
   "source": []
  },
  {
   "cell_type": "code",
   "execution_count": 272,
   "metadata": {
    "colab": {
     "base_uri": "https://localhost:8080/",
     "height": 137
    },
    "executionInfo": {
     "elapsed": 64263,
     "status": "ok",
     "timestamp": 1602629717462,
     "user": {
      "displayName": "Moe Khan",
      "photoUrl": "https://lh3.googleusercontent.com/a-/AOh14GihIfMaGkqmaWkIqJQMZkUikNd8fXA1cTUkxrAyMg=s64",
      "userId": "07011757049449668258"
     },
     "user_tz": 420
    },
    "id": "feygMpH7APmD",
    "outputId": "3ba4194b-b454-4480-ba28-48324987f77a"
   },
   "outputs": [
    {
     "data": {
      "text/html": [
       "<div>\n",
       "<style scoped>\n",
       "    .dataframe tbody tr th:only-of-type {\n",
       "        vertical-align: middle;\n",
       "    }\n",
       "\n",
       "    .dataframe tbody tr th {\n",
       "        vertical-align: top;\n",
       "    }\n",
       "\n",
       "    .dataframe thead th {\n",
       "        text-align: right;\n",
       "    }\n",
       "</style>\n",
       "<table border=\"1\" class=\"dataframe\">\n",
       "  <thead>\n",
       "    <tr style=\"text-align: right;\">\n",
       "      <th></th>\n",
       "      <th>loss</th>\n",
       "      <th>tp</th>\n",
       "      <th>fp</th>\n",
       "      <th>tn</th>\n",
       "      <th>fn</th>\n",
       "      <th>accuracy</th>\n",
       "      <th>precision</th>\n",
       "      <th>recall</th>\n",
       "      <th>val_loss</th>\n",
       "      <th>val_tp</th>\n",
       "      <th>val_fp</th>\n",
       "      <th>val_tn</th>\n",
       "      <th>val_fn</th>\n",
       "      <th>val_accuracy</th>\n",
       "      <th>val_precision</th>\n",
       "      <th>val_recall</th>\n",
       "    </tr>\n",
       "  </thead>\n",
       "  <tbody>\n",
       "    <tr>\n",
       "      <th>7</th>\n",
       "      <td>0.006399</td>\n",
       "      <td>0.0</td>\n",
       "      <td>0.0</td>\n",
       "      <td>79608.0</td>\n",
       "      <td>68.0</td>\n",
       "      <td>0.999147</td>\n",
       "      <td>0.0</td>\n",
       "      <td>0.0</td>\n",
       "      <td>0.012680</td>\n",
       "      <td>0.0</td>\n",
       "      <td>0.0</td>\n",
       "      <td>19902.0</td>\n",
       "      <td>17.0</td>\n",
       "      <td>0.999147</td>\n",
       "      <td>0.0</td>\n",
       "      <td>0.0</td>\n",
       "    </tr>\n",
       "    <tr>\n",
       "      <th>8</th>\n",
       "      <td>0.006436</td>\n",
       "      <td>0.0</td>\n",
       "      <td>0.0</td>\n",
       "      <td>79608.0</td>\n",
       "      <td>68.0</td>\n",
       "      <td>0.999147</td>\n",
       "      <td>0.0</td>\n",
       "      <td>0.0</td>\n",
       "      <td>0.012119</td>\n",
       "      <td>0.0</td>\n",
       "      <td>0.0</td>\n",
       "      <td>19902.0</td>\n",
       "      <td>17.0</td>\n",
       "      <td>0.999147</td>\n",
       "      <td>0.0</td>\n",
       "      <td>0.0</td>\n",
       "    </tr>\n",
       "    <tr>\n",
       "      <th>9</th>\n",
       "      <td>0.006214</td>\n",
       "      <td>0.0</td>\n",
       "      <td>0.0</td>\n",
       "      <td>79608.0</td>\n",
       "      <td>68.0</td>\n",
       "      <td>0.999147</td>\n",
       "      <td>0.0</td>\n",
       "      <td>0.0</td>\n",
       "      <td>0.012313</td>\n",
       "      <td>0.0</td>\n",
       "      <td>0.0</td>\n",
       "      <td>19902.0</td>\n",
       "      <td>17.0</td>\n",
       "      <td>0.999147</td>\n",
       "      <td>0.0</td>\n",
       "      <td>0.0</td>\n",
       "    </tr>\n",
       "  </tbody>\n",
       "</table>\n",
       "</div>"
      ],
      "text/plain": [
       "       loss   tp   fp       tn    fn  accuracy  precision  recall  val_loss  \\\n",
       "7  0.006399  0.0  0.0  79608.0  68.0  0.999147        0.0     0.0  0.012680   \n",
       "8  0.006436  0.0  0.0  79608.0  68.0  0.999147        0.0     0.0  0.012119   \n",
       "9  0.006214  0.0  0.0  79608.0  68.0  0.999147        0.0     0.0  0.012313   \n",
       "\n",
       "   val_tp  val_fp   val_tn  val_fn  val_accuracy  val_precision  val_recall  \n",
       "7     0.0     0.0  19902.0    17.0      0.999147            0.0         0.0  \n",
       "8     0.0     0.0  19902.0    17.0      0.999147            0.0         0.0  \n",
       "9     0.0     0.0  19902.0    17.0      0.999147            0.0         0.0  "
      ]
     },
     "execution_count": 272,
     "metadata": {},
     "output_type": "execute_result"
    }
   ],
   "source": [
    "hist = pd.DataFrame(history_weighted.history)\n",
    "hist.tail(3)"
   ]
  },
  {
   "cell_type": "code",
   "execution_count": 273,
   "metadata": {
    "colab": {
     "base_uri": "https://localhost:8080/",
     "height": 312
    },
    "executionInfo": {
     "elapsed": 65198,
     "status": "ok",
     "timestamp": 1602629719298,
     "user": {
      "displayName": "Moe Khan",
      "photoUrl": "https://lh3.googleusercontent.com/a-/AOh14GihIfMaGkqmaWkIqJQMZkUikNd8fXA1cTUkxrAyMg=s64",
      "userId": "07011757049449668258"
     },
     "user_tz": 420
    },
    "id": "Vm35ysFo7d8a",
    "outputId": "cd89e39a-3646-4d2f-fa60-23ba10e5b5de"
   },
   "outputs": [
    {
     "data": {
      "image/png": "[encoded data removed]",
      "text/plain": [
       "<Figure size 432x288 with 1 Axes>"
      ]
     },
     "metadata": {
      "needs_background": "light"
     },
     "output_type": "display_data"
    }
   ],
   "source": [
    "# # plot the loss\n",
    "\n",
    "plt.plot(history_weighted.epoch,  history_weighted.history['loss'],  label='Train')\n",
    "plt.plot(history_weighted.epoch,  history_weighted.history['val_loss'],  label='Val')\n",
    "\n",
    "plt.legend()\n",
    "plt.show()"
   ]
  },
  {
   "cell_type": "code",
   "execution_count": 274,
   "metadata": {},
   "outputs": [],
   "source": [
    "# function for plotting\n",
    "\n",
    "def plot_roc_curve(fpr,tpr): \n",
    "  plt.plot(fpr,tpr) \n",
    "  plt.axis([0,1,0,1]) \n",
    "  plt.xlabel('False Positive Rate') \n",
    "  plt.ylabel('True Positive Rate') \n",
    "  plt.show()    \n",
    "  \n",
    "# plot_roc_curve (fpr,tpr) \n"
   ]
  },
  {
   "cell_type": "code",
   "execution_count": 275,
   "metadata": {},
   "outputs": [],
   "source": [
    "# predict in probability\n",
    "yhat_train = model_weighted.predict(X_train)\n",
    "yhat_val = model_weighted.predict(X_val)\n",
    "yhat_test = model_weighted.predict(X_test)"
   ]
  },
  {
   "cell_type": "code",
   "execution_count": 276,
   "metadata": {},
   "outputs": [
    {
     "data": {
      "image/png": "[encoded data removed]",
      "text/plain": [
       "<Figure size 432x288 with 1 Axes>"
      ]
     },
     "metadata": {
      "needs_background": "light"
     },
     "output_type": "display_data"
    }
   ],
   "source": [
    "# drawing ROC curve\n",
    "# https://machinelearningmastery.com/roc-curves-and-precision-recall-curves-for-classification-in-python/\n",
    "\n",
    "fpr_mod_tr, tpr_mod_tr, _ = roc_curve(y_train, yhat_train)\n",
    "plt.plot(fpr_mod_tr, tpr_mod_tr, label = 'Train')\n",
    "fpr_mod_val, tpr_mod_val, _ = roc_curve(y_val, yhat_val)\n",
    "plt.plot(fpr_mod_val, tpr_mod_val, label = 'Val')\n",
    "fpr_mod, tpr_mod, _ = roc_curve(y_test, yhat_test)\n",
    "plt.plot(fpr_mod, tpr_mod, label = 'Test')\n",
    "plt.xlabel('False Positive Rate')\n",
    "plt.ylabel('True Positive Rate')\n",
    "plt.legend()\n",
    "plt.show()"
   ]
  },
  {
   "cell_type": "code",
   "execution_count": 277,
   "metadata": {},
   "outputs": [
    {
     "name": "stdout",
     "output_type": "stream",
     "text": [
      "ROC AUC for Train is :  0.9466572787541305\n",
      "ROC AUC for Val is :  0.7080695407496733\n",
      "ROC AUC for Test is :  0.8827784349530471\n"
     ]
    }
   ],
   "source": [
    "# calculated ROC AUC for Train\n",
    "# score = roc_auc_score(y_train, yhat_train)\n",
    "print('ROC AUC for Train is : ', roc_auc_score(y_train, yhat_train))\n",
    "print('ROC AUC for Val is : ', roc_auc_score(y_val, yhat_val))\n",
    "print('ROC AUC for Test is : ', roc_auc_score(y_test, yhat_test))"
   ]
  },
  {
   "cell_type": "code",
   "execution_count": null,
   "metadata": {},
   "outputs": [],
   "source": []
  },
  {
   "cell_type": "code",
   "execution_count": null,
   "metadata": {},
   "outputs": [],
   "source": []
  },
  {
   "cell_type": "code",
   "execution_count": null,
   "metadata": {},
   "outputs": [],
   "source": []
  },
  {
   "cell_type": "code",
   "execution_count": null,
   "metadata": {},
   "outputs": [],
   "source": []
  },
  {
   "cell_type": "code",
   "execution_count": 16,
   "metadata": {},
   "outputs": [],
   "source": [
    "cm_prob_threshold = 0.5"
   ]
  },
  {
   "cell_type": "code",
   "execution_count": 17,
   "metadata": {},
   "outputs": [
    {
     "name": "stdout",
     "output_type": "stream",
     "text": [
      "WARNING:tensorflow:From <ipython-input-17-a530a93603f1>:2: Sequential.predict_classes (from tensorflow.python.keras.engine.sequential) is deprecated and will be removed after 2021-01-01.\n",
      "Instructions for updating:\n",
      "Please use instead:* `np.argmax(model.predict(x), axis=-1)`,   if your model does multi-class classification   (e.g. if it uses a `softmax` last-layer activation).* `(model.predict(x) > 0.5).astype(\"int32\")`,   if your model does binary classification   (e.g. if it uses a `sigmoid` last-layer activation).\n"
     ]
    },
    {
     "data": {
      "text/plain": [
       "Text(0.5, 15.0, 'Predicted label')"
      ]
     },
     "execution_count": 17,
     "metadata": {},
     "output_type": "execute_result"
    },
    {
     "data": {
      "image/png": "[encoded data removed]",
      "text/plain": [
       "<Figure size 432x288 with 2 Axes>"
      ]
     },
     "metadata": {
      "needs_background": "light"
     },
     "output_type": "display_data"
    }
   ],
   "source": [
    "# make prediction on train dataset\n",
    "yhat_train = model_weighted.predict_classes(X_train, batch_size = BATCH_SIZE)\n",
    "# yhat_train = np.argmax(model.predict(X_train), axis = -1)\n",
    "\n",
    "# confusion matrix\n",
    "conf_matrix_tr = tf.math.confusion_matrix(yhat_train > cm_prob_threshold, y_train )\n",
    "\n",
    "sns.heatmap(conf_matrix_tr, annot=True, fmt = 'd')\n",
    "plt.title('Confusion matrix @{:.2f}'.format(cm_prob_threshold))\n",
    "plt.ylabel('Actual label')\n",
    "plt.xlabel('Predicted label')"
   ]
  },
  {
   "cell_type": "code",
   "execution_count": 19,
   "metadata": {},
   "outputs": [
    {
     "data": {
      "text/plain": [
       "Text(0.5, 15.0, 'Predicted label')"
      ]
     },
     "execution_count": 19,
     "metadata": {},
     "output_type": "execute_result"
    },
    {
     "data": {
      "image/png": "[encoded data removed]",
      "text/plain": [
       "<Figure size 432x288 with 2 Axes>"
      ]
     },
     "metadata": {
      "needs_background": "light"
     },
     "output_type": "display_data"
    }
   ],
   "source": [
    "# make prediction on test dataset\n",
    "\n",
    "yhat_test = model_weighted.predict_classes(X_test, batch_size = BATCH_SIZE)\n",
    "\n",
    "conf_matrix_te = tf.math.confusion_matrix(yhat_test >cm_prob_threshold, y_test )\n",
    "sns.heatmap(conf_matrix_te, annot=True, fmt = 'd')\n",
    "plt.title('Confusion matrix @{:.2f}'.format(cm_prob_threshold))\n",
    "plt.ylabel('Actual label')\n",
    "plt.xlabel('Predicted label')"
   ]
  },
  {
   "cell_type": "code",
   "execution_count": 18,
   "metadata": {},
   "outputs": [
    {
     "data": {
      "text/plain": [
       "Text(0.5, 15.0, 'Predicted label')"
      ]
     },
     "execution_count": 18,
     "metadata": {},
     "output_type": "execute_result"
    },
    {
     "data": {
      "image/png": "[encoded data removed]",
      "text/plain": [
       "<Figure size 432x288 with 2 Axes>"
      ]
     },
     "metadata": {
      "needs_background": "light"
     },
     "output_type": "display_data"
    }
   ],
   "source": [
    "# make prediction on val dataset\n",
    "\n",
    "yhat_val = model_weighted.predict_classes(X_val, batch_size = BATCH_SIZE)\n",
    "\n",
    "conf_matrix_val = tf.math.confusion_matrix(yhat_val > cm_prob_threshold, y_val )\n",
    "sns.heatmap(conf_matrix_val, annot=True, fmt = 'd')\n",
    "plt.title('Confusion matrix @{:.2f}'.format(cm_prob_threshold))\n",
    "plt.ylabel('Actual label')\n",
    "plt.xlabel('Predicted label')"
   ]
  },
  {
   "cell_type": "code",
   "execution_count": 20,
   "metadata": {},
   "outputs": [],
   "source": []
  },
  {
   "cell_type": "code",
   "execution_count": 21,
   "metadata": {},
   "outputs": [
    {
     "data": {
      "image/png": "[encoded data removed]",
      "text/plain": [
       "<Figure size 432x288 with 1 Axes>"
      ]
     },
     "metadata": {
      "needs_background": "light"
     },
     "output_type": "display_data"
    }
   ],
   "source": []
  },
  {
   "cell_type": "code",
   "execution_count": 22,
   "metadata": {},
   "outputs": [
    {
     "name": "stdout",
     "output_type": "stream",
     "text": [
      "ROC AUC for Train is :  0.977962235542393\n",
      "ROC AUC for Val is :  0.6453622751482263\n",
      "ROC AUC for Test is :  0.85431285626237\n"
     ]
    }
   ],
   "source": []
  },
  {
   "cell_type": "code",
   "execution_count": null,
   "metadata": {},
   "outputs": [],
   "source": []
  },
  {
   "cell_type": "code",
   "execution_count": null,
   "metadata": {
    "executionInfo": {
     "elapsed": 16817,
     "status": "ok",
     "timestamp": 1602627189819,
     "user": {
      "displayName": "Moe Khan",
      "photoUrl": "https://lh3.googleusercontent.com/a-/AOh14GihIfMaGkqmaWkIqJQMZkUikNd8fXA1cTUkxrAyMg=s64",
      "userId": "07011757049449668258"
     },
     "user_tz": 420
    },
    "id": "tUrg81en86m-"
   },
   "outputs": [],
   "source": []
  },
  {
   "cell_type": "code",
   "execution_count": null,
   "metadata": {
    "executionInfo": {
     "elapsed": 16542,
     "status": "ok",
     "timestamp": 1602627189819,
     "user": {
      "displayName": "Moe Khan",
      "photoUrl": "https://lh3.googleusercontent.com/a-/AOh14GihIfMaGkqmaWkIqJQMZkUikNd8fXA1cTUkxrAyMg=s64",
      "userId": "07011757049449668258"
     },
     "user_tz": 420
    },
    "id": "YLunWr2d86rC"
   },
   "outputs": [],
   "source": []
  },
  {
   "cell_type": "code",
   "execution_count": null,
   "metadata": {
    "executionInfo": {
     "elapsed": 16406,
     "status": "ok",
     "timestamp": 1602627189820,
     "user": {
      "displayName": "Moe Khan",
      "photoUrl": "https://lh3.googleusercontent.com/a-/AOh14GihIfMaGkqmaWkIqJQMZkUikNd8fXA1cTUkxrAyMg=s64",
      "userId": "07011757049449668258"
     },
     "user_tz": 420
    },
    "id": "ujwfWZ9V86us"
   },
   "outputs": [],
   "source": []
  },
  {
   "cell_type": "code",
   "execution_count": null,
   "metadata": {
    "executionInfo": {
     "elapsed": 767,
     "status": "ok",
     "timestamp": 1602627022981,
     "user": {
      "displayName": "Moe Khan",
      "photoUrl": "https://lh3.googleusercontent.com/a-/AOh14GihIfMaGkqmaWkIqJQMZkUikNd8fXA1cTUkxrAyMg=s64",
      "userId": "07011757049449668258"
     },
     "user_tz": 420
    },
    "id": "b-rX8pG-63W2"
   },
   "outputs": [],
   "source": [
    "\n"
   ]
  },
  {
   "cell_type": "code",
   "execution_count": null,
   "metadata": {
    "executionInfo": {
     "elapsed": 547,
     "status": "ok",
     "timestamp": 1602627022982,
     "user": {
      "displayName": "Moe Khan",
      "photoUrl": "https://lh3.googleusercontent.com/a-/AOh14GihIfMaGkqmaWkIqJQMZkUikNd8fXA1cTUkxrAyMg=s64",
      "userId": "07011757049449668258"
     },
     "user_tz": 420
    },
    "id": "yutoWKXuGuD8"
   },
   "outputs": [],
   "source": []
  },
  {
   "cell_type": "code",
   "execution_count": null,
   "metadata": {
    "executionInfo": {
     "elapsed": 651,
     "status": "ok",
     "timestamp": 1602627023266,
     "user": {
      "displayName": "Moe Khan",
      "photoUrl": "https://lh3.googleusercontent.com/a-/AOh14GihIfMaGkqmaWkIqJQMZkUikNd8fXA1cTUkxrAyMg=s64",
      "userId": "07011757049449668258"
     },
     "user_tz": 420
    },
    "id": "LsLVW0pVGuAO"
   },
   "outputs": [],
   "source": []
  },
  {
   "cell_type": "code",
   "execution_count": null,
   "metadata": {
    "executionInfo": {
     "elapsed": 441,
     "status": "ok",
     "timestamp": 1602627023267,
     "user": {
      "displayName": "Moe Khan",
      "photoUrl": "https://lh3.googleusercontent.com/a-/AOh14GihIfMaGkqmaWkIqJQMZkUikNd8fXA1cTUkxrAyMg=s64",
      "userId": "07011757049449668258"
     },
     "user_tz": 420
    },
    "id": "x-_LA0qC_BZQ"
   },
   "outputs": [],
   "source": []
  },
  {
   "cell_type": "code",
   "execution_count": null,
   "metadata": {
    "executionInfo": {
     "elapsed": 679,
     "status": "ok",
     "timestamp": 1602627024056,
     "user": {
      "displayName": "Moe Khan",
      "photoUrl": "https://lh3.googleusercontent.com/a-/AOh14GihIfMaGkqmaWkIqJQMZkUikNd8fXA1cTUkxrAyMg=s64",
      "userId": "07011757049449668258"
     },
     "user_tz": 420
    },
    "id": "dbtIhFd8fTdT"
   },
   "outputs": [],
   "source": []
  },
  {
   "cell_type": "code",
   "execution_count": null,
   "metadata": {
    "executionInfo": {
     "elapsed": 572,
     "status": "ok",
     "timestamp": 1602627025984,
     "user": {
      "displayName": "Moe Khan",
      "photoUrl": "https://lh3.googleusercontent.com/a-/AOh14GihIfMaGkqmaWkIqJQMZkUikNd8fXA1cTUkxrAyMg=s64",
      "userId": "07011757049449668258"
     },
     "user_tz": 420
    },
    "id": "9L9GaJCxfTh6"
   },
   "outputs": [],
   "source": []
  }
 ],
 "metadata": {
  "accelerator": "TPU",
  "colab": {
   "collapsed_sections": [],
   "name": "Pred_Maintenance - rev2.ipynb",
   "provenance": [],
   "toc_visible": true
  },
  "kernelspec": {
   "display_name": "Python 3",
   "language": "python",
   "name": "python3"
  },
  "language_info": {
   "codemirror_mode": {
    "name": "ipython",
    "version": 3
   },
   "file_extension": ".py",
   "mimetype": "text/x-python",
   "name": "python",
   "nbconvert_exporter": "python",
   "pygments_lexer": "ipython3",
   "version": "3.7.6"
  }
 },
 "nbformat": 4,
 "nbformat_minor": 4
}
