{
 "cells": [
  {
   "cell_type": "code",
   "execution_count": null,
   "metadata": {},
   "outputs": [],
   "source": []
  },
  {
   "cell_type": "markdown",
   "metadata": {
    "id": "jW7AgQ1H-h5O"
   },
   "source": [
    "# Predictive Maintenance"
   ]
  },
  {
   "cell_type": "markdown",
   "metadata": {
    "id": "YPqqqUgv-v9y"
   },
   "source": [
    "Dataset taken from\n",
    "\n",
    "http://aws-proserve-data-science.s3.amazonaws.com/predictive_maintenance.csv"
   ]
  },
  {
   "cell_type": "markdown",
   "metadata": {
    "id": "6nq30ml1-t0c"
   },
   "source": [
    "PROJECT: Maintenance cost reduction through predictive techniques\n",
    "\n",
    "BACKGROUND\n",
    "A company has a fleet of devices transmitting daily telemetry readings. They would like to create a predictive\n",
    "maintenance solution to proactively identify when maintenance should be performed. This approach promises cost\n",
    "savings over routine or time-based preventive maintenance, because tasks are performed only when warranted.\n",
    "\n",
    "GOAL :\n",
    "You are tasked with building a predictive model using machine learning to predict the probability of a device failure.\n",
    "When building this model, be sure to minimize false positives and false negatives. The column you are trying to predict is called failure with binary value 0 for non-failure and 1 for failure.\n",
    "\n",
    "Metrice : Precision, Recall, F1 score"
   ]
  },
  {
   "cell_type": "markdown",
   "metadata": {},
   "source": [
    "### Helpful websites\n",
    "\n",
    "https://imbalanced-learn.org/stable/\n",
    "\n",
    "https://www.analyticsvidhya.com/blog/2020/07/10-techniques-to-deal-with-class-imbalance-in-machine-learning/\n",
    "\n",
    "https://elitedatascience.com/imbalanced-classes\n",
    "\n",
    "https://machinelearningmastery.com/tactics-to-combat-imbalanced-classes-in-your-machine-learning-dataset/\n"
   ]
  },
  {
   "cell_type": "code",
   "execution_count": 1,
   "metadata": {
    "colab": {
     "base_uri": "https://localhost:8080/"
    },
    "executionInfo": {
     "elapsed": 28264,
     "status": "ok",
     "timestamp": 1604203195083,
     "user": {
      "displayName": "Moe Khan",
      "photoUrl": "https://lh3.googleusercontent.com/a-/AOh14GihIfMaGkqmaWkIqJQMZkUikNd8fXA1cTUkxrAyMg=s64",
      "userId": "07011757049449668258"
     },
     "user_tz": 420
    },
    "id": "Vsb0dB6PI5hI",
    "outputId": "8d44b3f5-2bb7-4399-af20-0355ef63436b"
   },
   "outputs": [],
   "source": [
    "# from google.colab import drive\n",
    "# drive.mount('/content/drive')"
   ]
  },
  {
   "cell_type": "markdown",
   "metadata": {
    "id": "Zqzg5Zyz-3Dp"
   },
   "source": [
    "# Read the Dataset"
   ]
  },
  {
   "cell_type": "code",
   "execution_count": 2,
   "metadata": {
    "colab": {
     "base_uri": "https://localhost:8080/"
    },
    "executionInfo": {
     "elapsed": 505,
     "status": "ok",
     "timestamp": 1604203201904,
     "user": {
      "displayName": "Moe Khan",
      "photoUrl": "https://lh3.googleusercontent.com/a-/AOh14GihIfMaGkqmaWkIqJQMZkUikNd8fXA1cTUkxrAyMg=s64",
      "userId": "07011757049449668258"
     },
     "user_tz": 420
    },
    "id": "mMlqTDNE-gH3",
    "outputId": "b63f99ea-a235-4b97-ee9f-4889c853a5d5"
   },
   "outputs": [
    {
     "name": "stdout",
     "output_type": "stream",
     "text": [
      "Done !!!\n"
     ]
    }
   ],
   "source": [
    "import pandas as pd\n",
    "import numpy as np\n",
    "import matplotlib.pyplot as plt\n",
    "import seaborn as sns\n",
    "from pathlib import Path\n",
    "\n",
    "import imblearn\n",
    "\n",
    "from sklearn.linear_model import LogisticRegression\n",
    "from sklearn.metrics import accuracy_score\n",
    "from sklearn.preprocessing import StandardScaler, MinMaxScaler\n",
    "from sklearn.utils import resample\n",
    "from sklearn.metrics import roc_auc_score, roc_curve\n",
    "from sklearn.ensemble import RandomForestClassifier, AdaBoostClassifier, GradientBoostingClassifier\n",
    "from sklearn.svm import SVC\n",
    "from sklearn.model_selection import train_test_split, cross_val_score, cross_validate\n",
    "from sklearn.model_selection import RepeatedStratifiedKFold\n",
    "\n",
    "from pandas.plotting import scatter_matrix\n",
    "from sklearn.metrics import confusion_matrix\n",
    "from sklearn.metrics import classification_report\n",
    "\n",
    "from imblearn.over_sampling import SMOTE, SVMSMOTE\n",
    "from imblearn.combine import SMOTETomek\n",
    "\n",
    "\n",
    "from tensorflow.keras.models  import Model, Sequential\n",
    "from tensorflow.keras.metrics import AUC, Precision, Recall\n",
    "from tensorflow.keras.layers import Input, Dense, Activation, Dropout, Conv2D, MaxPooling2D\n",
    "import tensorflow as tf\n",
    "from tensorflow import keras\n",
    "from tensorflow.keras.utils import plot_model\n",
    "\n",
    "plt.rcParams['figure.figsize'] = (12,8)\n",
    "\n",
    "%matplotlib inline\n",
    "print('Done !!!')"
   ]
  },
  {
   "cell_type": "code",
   "execution_count": 3,
   "metadata": {},
   "outputs": [],
   "source": [
    "import warnings\n",
    "warnings.filterwarnings(\"ignore\")"
   ]
  },
  {
   "cell_type": "code",
   "execution_count": 4,
   "metadata": {},
   "outputs": [],
   "source": [
    "# Read the dataset from EDA\n",
    "\n",
    "df = pd.read_csv('data/df_one_hot.csv',\n",
    "                        parse_dates = True,\n",
    "                        index_col = 'date',\n",
    "                        delimiter = ','\n",
    "                        )"
   ]
  },
  {
   "cell_type": "code",
   "execution_count": 5,
   "metadata": {},
   "outputs": [
    {
     "data": {
      "text/plain": [
       "(124494, 1178)"
      ]
     },
     "execution_count": 5,
     "metadata": {},
     "output_type": "execute_result"
    }
   ],
   "source": [
    "df.shape"
   ]
  },
  {
   "cell_type": "code",
   "execution_count": 6,
   "metadata": {},
   "outputs": [
    {
     "data": {
      "text/plain": [
       "DatetimeIndex(['2015-01-01', '2015-01-01', '2015-01-01', '2015-01-01',\n",
       "               '2015-01-01', '2015-01-01', '2015-01-01', '2015-01-01',\n",
       "               '2015-01-01', '2015-01-01',\n",
       "               ...\n",
       "               '2015-11-02', '2015-11-02', '2015-11-02', '2015-11-02',\n",
       "               '2015-11-02', '2015-11-02', '2015-11-02', '2015-11-02',\n",
       "               '2015-11-02', '2015-11-02'],\n",
       "              dtype='datetime64[ns]', name='date', length=124494, freq=None)"
      ]
     },
     "execution_count": 6,
     "metadata": {},
     "output_type": "execute_result"
    }
   ],
   "source": [
    "df.index"
   ]
  },
  {
   "cell_type": "code",
   "execution_count": 7,
   "metadata": {},
   "outputs": [
    {
     "data": {
      "text/html": [
       "<div>\n",
       "<style scoped>\n",
       "    .dataframe tbody tr th:only-of-type {\n",
       "        vertical-align: middle;\n",
       "    }\n",
       "\n",
       "    .dataframe tbody tr th {\n",
       "        vertical-align: top;\n",
       "    }\n",
       "\n",
       "    .dataframe thead th {\n",
       "        text-align: right;\n",
       "    }\n",
       "</style>\n",
       "<table border=\"1\" class=\"dataframe\">\n",
       "  <thead>\n",
       "    <tr style=\"text-align: right;\">\n",
       "      <th></th>\n",
       "      <th>failure</th>\n",
       "      <th>metric1</th>\n",
       "      <th>metric2</th>\n",
       "      <th>metric3</th>\n",
       "      <th>metric4</th>\n",
       "      <th>metric5</th>\n",
       "      <th>metric6</th>\n",
       "      <th>metric7</th>\n",
       "      <th>metric9</th>\n",
       "      <th>dev__S1F01085</th>\n",
       "      <th>...</th>\n",
       "      <th>dev__Z1F1HSWK</th>\n",
       "      <th>dev__Z1F1Q9BD</th>\n",
       "      <th>dev__Z1F1R76A</th>\n",
       "      <th>dev__Z1F1RE71</th>\n",
       "      <th>dev__Z1F1RJFA</th>\n",
       "      <th>dev__Z1F1VMZB</th>\n",
       "      <th>dev__Z1F1VQFY</th>\n",
       "      <th>dev__Z1F26YZB</th>\n",
       "      <th>dev__Z1F282ZV</th>\n",
       "      <th>dev__Z1F2PBHX</th>\n",
       "    </tr>\n",
       "    <tr>\n",
       "      <th>date</th>\n",
       "      <th></th>\n",
       "      <th></th>\n",
       "      <th></th>\n",
       "      <th></th>\n",
       "      <th></th>\n",
       "      <th></th>\n",
       "      <th></th>\n",
       "      <th></th>\n",
       "      <th></th>\n",
       "      <th></th>\n",
       "      <th></th>\n",
       "      <th></th>\n",
       "      <th></th>\n",
       "      <th></th>\n",
       "      <th></th>\n",
       "      <th></th>\n",
       "      <th></th>\n",
       "      <th></th>\n",
       "      <th></th>\n",
       "      <th></th>\n",
       "      <th></th>\n",
       "    </tr>\n",
       "  </thead>\n",
       "  <tbody>\n",
       "    <tr>\n",
       "      <th>2015-01-01</th>\n",
       "      <td>0</td>\n",
       "      <td>215630672</td>\n",
       "      <td>56</td>\n",
       "      <td>0</td>\n",
       "      <td>52</td>\n",
       "      <td>6</td>\n",
       "      <td>407438</td>\n",
       "      <td>0</td>\n",
       "      <td>7</td>\n",
       "      <td>1</td>\n",
       "      <td>...</td>\n",
       "      <td>0</td>\n",
       "      <td>0</td>\n",
       "      <td>0</td>\n",
       "      <td>0</td>\n",
       "      <td>0</td>\n",
       "      <td>0</td>\n",
       "      <td>0</td>\n",
       "      <td>0</td>\n",
       "      <td>0</td>\n",
       "      <td>0</td>\n",
       "    </tr>\n",
       "    <tr>\n",
       "      <th>2015-01-01</th>\n",
       "      <td>0</td>\n",
       "      <td>61370680</td>\n",
       "      <td>0</td>\n",
       "      <td>3</td>\n",
       "      <td>0</td>\n",
       "      <td>6</td>\n",
       "      <td>403174</td>\n",
       "      <td>0</td>\n",
       "      <td>0</td>\n",
       "      <td>0</td>\n",
       "      <td>...</td>\n",
       "      <td>0</td>\n",
       "      <td>0</td>\n",
       "      <td>0</td>\n",
       "      <td>0</td>\n",
       "      <td>0</td>\n",
       "      <td>0</td>\n",
       "      <td>0</td>\n",
       "      <td>0</td>\n",
       "      <td>0</td>\n",
       "      <td>0</td>\n",
       "    </tr>\n",
       "    <tr>\n",
       "      <th>2015-01-01</th>\n",
       "      <td>0</td>\n",
       "      <td>173295968</td>\n",
       "      <td>0</td>\n",
       "      <td>0</td>\n",
       "      <td>0</td>\n",
       "      <td>12</td>\n",
       "      <td>237394</td>\n",
       "      <td>0</td>\n",
       "      <td>0</td>\n",
       "      <td>0</td>\n",
       "      <td>...</td>\n",
       "      <td>0</td>\n",
       "      <td>0</td>\n",
       "      <td>0</td>\n",
       "      <td>0</td>\n",
       "      <td>0</td>\n",
       "      <td>0</td>\n",
       "      <td>0</td>\n",
       "      <td>0</td>\n",
       "      <td>0</td>\n",
       "      <td>0</td>\n",
       "    </tr>\n",
       "  </tbody>\n",
       "</table>\n",
       "<p>3 rows × 1178 columns</p>\n",
       "</div>"
      ],
      "text/plain": [
       "            failure    metric1  metric2  metric3  metric4  metric5  metric6  \\\n",
       "date                                                                          \n",
       "2015-01-01        0  215630672       56        0       52        6   407438   \n",
       "2015-01-01        0   61370680        0        3        0        6   403174   \n",
       "2015-01-01        0  173295968        0        0        0       12   237394   \n",
       "\n",
       "            metric7  metric9  dev__S1F01085  ...  dev__Z1F1HSWK  \\\n",
       "date                                         ...                  \n",
       "2015-01-01        0        7              1  ...              0   \n",
       "2015-01-01        0        0              0  ...              0   \n",
       "2015-01-01        0        0              0  ...              0   \n",
       "\n",
       "            dev__Z1F1Q9BD  dev__Z1F1R76A  dev__Z1F1RE71  dev__Z1F1RJFA  \\\n",
       "date                                                                     \n",
       "2015-01-01              0              0              0              0   \n",
       "2015-01-01              0              0              0              0   \n",
       "2015-01-01              0              0              0              0   \n",
       "\n",
       "            dev__Z1F1VMZB  dev__Z1F1VQFY  dev__Z1F26YZB  dev__Z1F282ZV  \\\n",
       "date                                                                     \n",
       "2015-01-01              0              0              0              0   \n",
       "2015-01-01              0              0              0              0   \n",
       "2015-01-01              0              0              0              0   \n",
       "\n",
       "            dev__Z1F2PBHX  \n",
       "date                       \n",
       "2015-01-01              0  \n",
       "2015-01-01              0  \n",
       "2015-01-01              0  \n",
       "\n",
       "[3 rows x 1178 columns]"
      ]
     },
     "execution_count": 7,
     "metadata": {},
     "output_type": "execute_result"
    }
   ],
   "source": [
    "df.head(3)"
   ]
  },
  {
   "cell_type": "code",
   "execution_count": 8,
   "metadata": {},
   "outputs": [
    {
     "data": {
      "text/html": [
       "<div>\n",
       "<style scoped>\n",
       "    .dataframe tbody tr th:only-of-type {\n",
       "        vertical-align: middle;\n",
       "    }\n",
       "\n",
       "    .dataframe tbody tr th {\n",
       "        vertical-align: top;\n",
       "    }\n",
       "\n",
       "    .dataframe thead th {\n",
       "        text-align: right;\n",
       "    }\n",
       "</style>\n",
       "<table border=\"1\" class=\"dataframe\">\n",
       "  <thead>\n",
       "    <tr style=\"text-align: right;\">\n",
       "      <th></th>\n",
       "      <th>failure</th>\n",
       "      <th>metric1</th>\n",
       "      <th>metric2</th>\n",
       "      <th>metric3</th>\n",
       "      <th>metric4</th>\n",
       "      <th>metric5</th>\n",
       "      <th>metric6</th>\n",
       "      <th>metric7</th>\n",
       "      <th>metric9</th>\n",
       "      <th>dev__S1F01085</th>\n",
       "      <th>...</th>\n",
       "      <th>dev__Z1F1HSWK</th>\n",
       "      <th>dev__Z1F1Q9BD</th>\n",
       "      <th>dev__Z1F1R76A</th>\n",
       "      <th>dev__Z1F1RE71</th>\n",
       "      <th>dev__Z1F1RJFA</th>\n",
       "      <th>dev__Z1F1VMZB</th>\n",
       "      <th>dev__Z1F1VQFY</th>\n",
       "      <th>dev__Z1F26YZB</th>\n",
       "      <th>dev__Z1F282ZV</th>\n",
       "      <th>dev__Z1F2PBHX</th>\n",
       "    </tr>\n",
       "  </thead>\n",
       "  <tbody>\n",
       "    <tr>\n",
       "      <th>count</th>\n",
       "      <td>124494.000000</td>\n",
       "      <td>1.244940e+05</td>\n",
       "      <td>124494.000000</td>\n",
       "      <td>124494.000000</td>\n",
       "      <td>124494.000000</td>\n",
       "      <td>124494.000000</td>\n",
       "      <td>124494.000000</td>\n",
       "      <td>124494.000000</td>\n",
       "      <td>124494.000000</td>\n",
       "      <td>124494.000000</td>\n",
       "      <td>...</td>\n",
       "      <td>124494.000000</td>\n",
       "      <td>124494.000000</td>\n",
       "      <td>124494.000000</td>\n",
       "      <td>124494.000000</td>\n",
       "      <td>124494.000000</td>\n",
       "      <td>124494.000000</td>\n",
       "      <td>124494.000000</td>\n",
       "      <td>124494.000000</td>\n",
       "      <td>124494.000000</td>\n",
       "      <td>124494.000000</td>\n",
       "    </tr>\n",
       "    <tr>\n",
       "      <th>mean</th>\n",
       "      <td>0.000851</td>\n",
       "      <td>1.223881e+08</td>\n",
       "      <td>159.484762</td>\n",
       "      <td>9.940455</td>\n",
       "      <td>1.741120</td>\n",
       "      <td>14.222669</td>\n",
       "      <td>260172.657726</td>\n",
       "      <td>0.292528</td>\n",
       "      <td>12.451524</td>\n",
       "      <td>0.000048</td>\n",
       "      <td>...</td>\n",
       "      <td>0.000048</td>\n",
       "      <td>0.000659</td>\n",
       "      <td>0.001968</td>\n",
       "      <td>0.000048</td>\n",
       "      <td>0.000996</td>\n",
       "      <td>0.002345</td>\n",
       "      <td>0.001004</td>\n",
       "      <td>0.000675</td>\n",
       "      <td>0.000675</td>\n",
       "      <td>0.000667</td>\n",
       "    </tr>\n",
       "    <tr>\n",
       "      <th>std</th>\n",
       "      <td>0.029167</td>\n",
       "      <td>7.045933e+07</td>\n",
       "      <td>2179.657730</td>\n",
       "      <td>185.747321</td>\n",
       "      <td>22.908507</td>\n",
       "      <td>15.943028</td>\n",
       "      <td>99151.078547</td>\n",
       "      <td>7.436924</td>\n",
       "      <td>191.425623</td>\n",
       "      <td>0.006942</td>\n",
       "      <td>...</td>\n",
       "      <td>0.006942</td>\n",
       "      <td>0.025656</td>\n",
       "      <td>0.044318</td>\n",
       "      <td>0.006942</td>\n",
       "      <td>0.031544</td>\n",
       "      <td>0.048374</td>\n",
       "      <td>0.031671</td>\n",
       "      <td>0.025967</td>\n",
       "      <td>0.025967</td>\n",
       "      <td>0.025812</td>\n",
       "    </tr>\n",
       "    <tr>\n",
       "      <th>min</th>\n",
       "      <td>0.000000</td>\n",
       "      <td>0.000000e+00</td>\n",
       "      <td>0.000000</td>\n",
       "      <td>0.000000</td>\n",
       "      <td>0.000000</td>\n",
       "      <td>1.000000</td>\n",
       "      <td>8.000000</td>\n",
       "      <td>0.000000</td>\n",
       "      <td>0.000000</td>\n",
       "      <td>0.000000</td>\n",
       "      <td>...</td>\n",
       "      <td>0.000000</td>\n",
       "      <td>0.000000</td>\n",
       "      <td>0.000000</td>\n",
       "      <td>0.000000</td>\n",
       "      <td>0.000000</td>\n",
       "      <td>0.000000</td>\n",
       "      <td>0.000000</td>\n",
       "      <td>0.000000</td>\n",
       "      <td>0.000000</td>\n",
       "      <td>0.000000</td>\n",
       "    </tr>\n",
       "    <tr>\n",
       "      <th>25%</th>\n",
       "      <td>0.000000</td>\n",
       "      <td>6.128476e+07</td>\n",
       "      <td>0.000000</td>\n",
       "      <td>0.000000</td>\n",
       "      <td>0.000000</td>\n",
       "      <td>8.000000</td>\n",
       "      <td>221452.000000</td>\n",
       "      <td>0.000000</td>\n",
       "      <td>0.000000</td>\n",
       "      <td>0.000000</td>\n",
       "      <td>...</td>\n",
       "      <td>0.000000</td>\n",
       "      <td>0.000000</td>\n",
       "      <td>0.000000</td>\n",
       "      <td>0.000000</td>\n",
       "      <td>0.000000</td>\n",
       "      <td>0.000000</td>\n",
       "      <td>0.000000</td>\n",
       "      <td>0.000000</td>\n",
       "      <td>0.000000</td>\n",
       "      <td>0.000000</td>\n",
       "    </tr>\n",
       "    <tr>\n",
       "      <th>50%</th>\n",
       "      <td>0.000000</td>\n",
       "      <td>1.227974e+08</td>\n",
       "      <td>0.000000</td>\n",
       "      <td>0.000000</td>\n",
       "      <td>0.000000</td>\n",
       "      <td>10.000000</td>\n",
       "      <td>249799.500000</td>\n",
       "      <td>0.000000</td>\n",
       "      <td>0.000000</td>\n",
       "      <td>0.000000</td>\n",
       "      <td>...</td>\n",
       "      <td>0.000000</td>\n",
       "      <td>0.000000</td>\n",
       "      <td>0.000000</td>\n",
       "      <td>0.000000</td>\n",
       "      <td>0.000000</td>\n",
       "      <td>0.000000</td>\n",
       "      <td>0.000000</td>\n",
       "      <td>0.000000</td>\n",
       "      <td>0.000000</td>\n",
       "      <td>0.000000</td>\n",
       "    </tr>\n",
       "    <tr>\n",
       "      <th>75%</th>\n",
       "      <td>0.000000</td>\n",
       "      <td>1.833096e+08</td>\n",
       "      <td>0.000000</td>\n",
       "      <td>0.000000</td>\n",
       "      <td>0.000000</td>\n",
       "      <td>12.000000</td>\n",
       "      <td>310266.000000</td>\n",
       "      <td>0.000000</td>\n",
       "      <td>0.000000</td>\n",
       "      <td>0.000000</td>\n",
       "      <td>...</td>\n",
       "      <td>0.000000</td>\n",
       "      <td>0.000000</td>\n",
       "      <td>0.000000</td>\n",
       "      <td>0.000000</td>\n",
       "      <td>0.000000</td>\n",
       "      <td>0.000000</td>\n",
       "      <td>0.000000</td>\n",
       "      <td>0.000000</td>\n",
       "      <td>0.000000</td>\n",
       "      <td>0.000000</td>\n",
       "    </tr>\n",
       "    <tr>\n",
       "      <th>max</th>\n",
       "      <td>1.000000</td>\n",
       "      <td>2.441405e+08</td>\n",
       "      <td>64968.000000</td>\n",
       "      <td>24929.000000</td>\n",
       "      <td>1666.000000</td>\n",
       "      <td>98.000000</td>\n",
       "      <td>689161.000000</td>\n",
       "      <td>832.000000</td>\n",
       "      <td>18701.000000</td>\n",
       "      <td>1.000000</td>\n",
       "      <td>...</td>\n",
       "      <td>1.000000</td>\n",
       "      <td>1.000000</td>\n",
       "      <td>1.000000</td>\n",
       "      <td>1.000000</td>\n",
       "      <td>1.000000</td>\n",
       "      <td>1.000000</td>\n",
       "      <td>1.000000</td>\n",
       "      <td>1.000000</td>\n",
       "      <td>1.000000</td>\n",
       "      <td>1.000000</td>\n",
       "    </tr>\n",
       "  </tbody>\n",
       "</table>\n",
       "<p>8 rows × 1178 columns</p>\n",
       "</div>"
      ],
      "text/plain": [
       "             failure       metric1        metric2        metric3  \\\n",
       "count  124494.000000  1.244940e+05  124494.000000  124494.000000   \n",
       "mean        0.000851  1.223881e+08     159.484762       9.940455   \n",
       "std         0.029167  7.045933e+07    2179.657730     185.747321   \n",
       "min         0.000000  0.000000e+00       0.000000       0.000000   \n",
       "25%         0.000000  6.128476e+07       0.000000       0.000000   \n",
       "50%         0.000000  1.227974e+08       0.000000       0.000000   \n",
       "75%         0.000000  1.833096e+08       0.000000       0.000000   \n",
       "max         1.000000  2.441405e+08   64968.000000   24929.000000   \n",
       "\n",
       "             metric4        metric5        metric6        metric7  \\\n",
       "count  124494.000000  124494.000000  124494.000000  124494.000000   \n",
       "mean        1.741120      14.222669  260172.657726       0.292528   \n",
       "std        22.908507      15.943028   99151.078547       7.436924   \n",
       "min         0.000000       1.000000       8.000000       0.000000   \n",
       "25%         0.000000       8.000000  221452.000000       0.000000   \n",
       "50%         0.000000      10.000000  249799.500000       0.000000   \n",
       "75%         0.000000      12.000000  310266.000000       0.000000   \n",
       "max      1666.000000      98.000000  689161.000000     832.000000   \n",
       "\n",
       "             metric9  dev__S1F01085  ...  dev__Z1F1HSWK  dev__Z1F1Q9BD  \\\n",
       "count  124494.000000  124494.000000  ...  124494.000000  124494.000000   \n",
       "mean       12.451524       0.000048  ...       0.000048       0.000659   \n",
       "std       191.425623       0.006942  ...       0.006942       0.025656   \n",
       "min         0.000000       0.000000  ...       0.000000       0.000000   \n",
       "25%         0.000000       0.000000  ...       0.000000       0.000000   \n",
       "50%         0.000000       0.000000  ...       0.000000       0.000000   \n",
       "75%         0.000000       0.000000  ...       0.000000       0.000000   \n",
       "max     18701.000000       1.000000  ...       1.000000       1.000000   \n",
       "\n",
       "       dev__Z1F1R76A  dev__Z1F1RE71  dev__Z1F1RJFA  dev__Z1F1VMZB  \\\n",
       "count  124494.000000  124494.000000  124494.000000  124494.000000   \n",
       "mean        0.001968       0.000048       0.000996       0.002345   \n",
       "std         0.044318       0.006942       0.031544       0.048374   \n",
       "min         0.000000       0.000000       0.000000       0.000000   \n",
       "25%         0.000000       0.000000       0.000000       0.000000   \n",
       "50%         0.000000       0.000000       0.000000       0.000000   \n",
       "75%         0.000000       0.000000       0.000000       0.000000   \n",
       "max         1.000000       1.000000       1.000000       1.000000   \n",
       "\n",
       "       dev__Z1F1VQFY  dev__Z1F26YZB  dev__Z1F282ZV  dev__Z1F2PBHX  \n",
       "count  124494.000000  124494.000000  124494.000000  124494.000000  \n",
       "mean        0.001004       0.000675       0.000675       0.000667  \n",
       "std         0.031671       0.025967       0.025967       0.025812  \n",
       "min         0.000000       0.000000       0.000000       0.000000  \n",
       "25%         0.000000       0.000000       0.000000       0.000000  \n",
       "50%         0.000000       0.000000       0.000000       0.000000  \n",
       "75%         0.000000       0.000000       0.000000       0.000000  \n",
       "max         1.000000       1.000000       1.000000       1.000000  \n",
       "\n",
       "[8 rows x 1178 columns]"
      ]
     },
     "execution_count": 8,
     "metadata": {},
     "output_type": "execute_result"
    }
   ],
   "source": [
    "df.describe()"
   ]
  },
  {
   "cell_type": "code",
   "execution_count": 9,
   "metadata": {},
   "outputs": [
    {
     "data": {
      "text/plain": [
       "failure          0\n",
       "metric1          0\n",
       "metric2          0\n",
       "metric3          0\n",
       "metric4          0\n",
       "                ..\n",
       "dev__Z1F1VMZB    0\n",
       "dev__Z1F1VQFY    0\n",
       "dev__Z1F26YZB    0\n",
       "dev__Z1F282ZV    0\n",
       "dev__Z1F2PBHX    0\n",
       "Length: 1178, dtype: int64"
      ]
     },
     "execution_count": 9,
     "metadata": {},
     "output_type": "execute_result"
    }
   ],
   "source": [
    "df.isnull().sum()"
   ]
  },
  {
   "cell_type": "code",
   "execution_count": 10,
   "metadata": {},
   "outputs": [
    {
     "name": "stdout",
     "output_type": "stream",
     "text": [
      "Percentage of failure is : 0.0851446656063746\n"
     ]
    }
   ],
   "source": [
    "failed = df[df['failure'] == 1]['failure'].sum() * 100 / len(df)\n",
    "\n",
    "print(f'Percentage of failure is : {failed}')"
   ]
  },
  {
   "cell_type": "code",
   "execution_count": 11,
   "metadata": {},
   "outputs": [
    {
     "name": "stdout",
     "output_type": "stream",
     "text": [
      "Failure : 106,  Non-Failure : 124388\n"
     ]
    }
   ],
   "source": [
    "class_0, class_1 = df['failure'].value_counts()\n",
    "print(f'Failure : {class_1},  Non-Failure : {class_0}')"
   ]
  },
  {
   "cell_type": "code",
   "execution_count": 12,
   "metadata": {},
   "outputs": [
    {
     "data": {
      "text/plain": [
       "Text(0.5, 1.0, 'Failure Distributions \\n (0: No Failure || 1: Failure)')"
      ]
     },
     "execution_count": 12,
     "metadata": {},
     "output_type": "execute_result"
    },
    {
     "data": {
      "image/png": "[encoded data removed]",
      "text/plain": [
       "<Figure size 432x288 with 1 Axes>"
      ]
     },
     "metadata": {
      "needs_background": "light"
     },
     "output_type": "display_data"
    }
   ],
   "source": [
    "sns.countplot('failure', data = df)\n",
    "plt.title('Failure Distributions \\n (0: No Failure || 1: Failure)', fontsize=14)"
   ]
  },
  {
   "cell_type": "code",
   "execution_count": null,
   "metadata": {},
   "outputs": [],
   "source": []
  },
  {
   "cell_type": "code",
   "execution_count": 13,
   "metadata": {},
   "outputs": [],
   "source": [
    "# Split X and Y dataset\n",
    "X = df.iloc[:, 1:]  \n",
    "y = df.iloc[:, :1]"
   ]
  },
  {
   "cell_type": "code",
   "execution_count": 14,
   "metadata": {},
   "outputs": [
    {
     "data": {
      "image/png": "[encoded data removed]",
      "text/plain": [
       "<Figure size 432x288 with 1 Axes>"
      ]
     },
     "metadata": {
      "needs_background": "light"
     },
     "output_type": "display_data"
    }
   ],
   "source": [
    "sns.scatterplot(X['metric1'], X['metric2'], hue = y['failure'])\n",
    "plt.show();"
   ]
  },
  {
   "cell_type": "code",
   "execution_count": 15,
   "metadata": {},
   "outputs": [],
   "source": [
    "# make statify = y for imbalanced dataset\n",
    "X_train, X_test, y_train, y_test = train_test_split(X, y, \n",
    "                              test_size = 0.2, stratify = y )\n",
    "    \n",
    "   "
   ]
  },
  {
   "cell_type": "code",
   "execution_count": 16,
   "metadata": {},
   "outputs": [
    {
     "name": "stdout",
     "output_type": "stream",
     "text": [
      "(99595, 1177) (24899, 1177) (99595, 1) (24899, 1)\n"
     ]
    }
   ],
   "source": [
    "print(X_train.shape, X_test.shape, y_train.shape, y_test.shape)"
   ]
  },
  {
   "cell_type": "code",
   "execution_count": 17,
   "metadata": {},
   "outputs": [
    {
     "data": {
      "text/plain": [
       "failure    85\n",
       "dtype: int64"
      ]
     },
     "execution_count": 17,
     "metadata": {},
     "output_type": "execute_result"
    }
   ],
   "source": [
    "y_train.sum()"
   ]
  },
  {
   "cell_type": "code",
   "execution_count": 18,
   "metadata": {},
   "outputs": [
    {
     "data": {
      "text/plain": [
       "failure    21\n",
       "dtype: int64"
      ]
     },
     "execution_count": 18,
     "metadata": {},
     "output_type": "execute_result"
    }
   ],
   "source": [
    "y_test.sum()"
   ]
  },
  {
   "cell_type": "markdown",
   "metadata": {},
   "source": [
    "# Logistic Classification"
   ]
  },
  {
   "cell_type": "code",
   "execution_count": 19,
   "metadata": {},
   "outputs": [
    {
     "data": {
      "text/plain": [
       "LogisticRegression(class_weight={0: 0.085, 1: 1}, max_iter=1000)"
      ]
     },
     "execution_count": 19,
     "metadata": {},
     "output_type": "execute_result"
    }
   ],
   "source": [
    "# Logistic Classification with class_weight\n",
    "\n",
    "weights = {0: 0.085, 1: 1} # failed ratio calculated above\n",
    "clf_lr = LogisticRegression(class_weight= weights, max_iter = 1000)\n",
    "clf_lr.fit(X_train, y_train)\n"
   ]
  },
  {
   "cell_type": "code",
   "execution_count": 20,
   "metadata": {},
   "outputs": [],
   "source": [
    "pred_lr_tr = clf_lr.predict(X_train)\n",
    "pred_lr_te = clf_lr.predict(X_test)"
   ]
  },
  {
   "cell_type": "code",
   "execution_count": 21,
   "metadata": {},
   "outputs": [
    {
     "name": "stdout",
     "output_type": "stream",
     "text": [
      "Train Accuracy Score -  0.9988352828957276\n",
      "Val Accuracy Score -  0.9987549700791196\n"
     ]
    }
   ],
   "source": [
    "print('Train Accuracy Score - ',accuracy_score(pred_lr_tr, y_train))\n",
    "print('Val Accuracy Score - ',accuracy_score(pred_lr_te, y_test))\n"
   ]
  },
  {
   "cell_type": "code",
   "execution_count": null,
   "metadata": {},
   "outputs": [],
   "source": []
  },
  {
   "cell_type": "code",
   "execution_count": 22,
   "metadata": {},
   "outputs": [
    {
     "name": "stdout",
     "output_type": "stream",
     "text": [
      "tn, fp, fn, tp [[24868    21]\n",
      " [   10     0]]\n",
      "              precision    recall  f1-score   support\n",
      "\n",
      "           0       1.00      1.00      1.00     24889\n",
      "           1       0.00      0.00      0.00        10\n",
      "\n",
      "    accuracy                           1.00     24899\n",
      "   macro avg       0.50      0.50      0.50     24899\n",
      "weighted avg       1.00      1.00      1.00     24899\n",
      "\n"
     ]
    },
    {
     "data": {
      "text/plain": [
       "Text(0.5, 15.0, 'Predicted')"
      ]
     },
     "execution_count": 22,
     "metadata": {},
     "output_type": "execute_result"
    },
    {
     "data": {
      "image/png": "[encoded data removed]",
      "text/plain": [
       "<Figure size 432x288 with 2 Axes>"
      ]
     },
     "metadata": {
      "needs_background": "light"
     },
     "output_type": "display_data"
    }
   ],
   "source": [
    "# confusion matrix on Test\n",
    "'''\n",
    "                    Predicted\n",
    "                  0          1\n",
    "        0         TN         FP\n",
    "Actual \n",
    "        1         FN         TP\n",
    "'''\n",
    "\n",
    "\n",
    "conf_matrix_lr_te = confusion_matrix(pred_lr_te , y_test )\n",
    "print('tn, fp, fn, tp', confusion_matrix(pred_lr_te, y_test ))\n",
    "# print(conf_matrix_lr_tr)\n",
    "\n",
    "conf_matrix_lr_report_te = classification_report(pred_lr_te, y_test )\n",
    "print(conf_matrix_lr_report_te)\n",
    "sns.heatmap(conf_matrix_lr_te, annot=True, fmt = 'd')\n",
    "plt.title('Confusion matrix ')\n",
    "plt.ylabel('Actual label')\n",
    "plt.xlabel('Predicted')"
   ]
  },
  {
   "cell_type": "code",
   "execution_count": null,
   "metadata": {},
   "outputs": [],
   "source": []
  },
  {
   "cell_type": "code",
   "execution_count": 23,
   "metadata": {},
   "outputs": [
    {
     "name": "stdout",
     "output_type": "stream",
     "text": [
      "ROC score for Train is 0.5196754095065823\n",
      "ROC score for Test is 0.443315761870308\n"
     ]
    }
   ],
   "source": [
    "# ROC for Train and Test\n",
    "\n",
    "pred_lr_tr_proba = clf_lr.predict_proba(X_train)\n",
    "pred_lr_tr_proba = pred_lr_tr_proba[:, 1] # taking only the last column\n",
    "roc_acc_lr_tr = roc_auc_score(y_train, pred_lr_tr_proba)\n",
    "\n",
    "\n",
    "\n",
    "pred_lr_te_proba = clf_lr.predict_proba(X_test)\n",
    "pred_lr_te_proba = pred_lr_te_proba[:, 1] # taking only the last column\n",
    "roc_acc_lr_te = roc_auc_score(y_test, pred_lr_te_proba)\n",
    "\n",
    "print(f'ROC score for Train is {roc_acc_lr_tr}')\n",
    "print(f'ROC score for Test is {roc_acc_lr_te}')"
   ]
  },
  {
   "cell_type": "code",
   "execution_count": 24,
   "metadata": {},
   "outputs": [
    {
     "data": {
      "image/png": "[encoded data removed]",
      "text/plain": [
       "<Figure size 432x288 with 1 Axes>"
      ]
     },
     "metadata": {
      "needs_background": "light"
     },
     "output_type": "display_data"
    }
   ],
   "source": [
    "# drawing ROC curve\n",
    "# https://machinelearningmastery.com/roc-curves-and-precision-recall-curves-for-classification-in-python/\n",
    "\n",
    "lr_fpr_rf_tr, lr_tpr_rf_tr, _ = roc_curve(y_train, pred_lr_tr_proba)\n",
    "lr_fpr_rf_te, lr_tpr_rf_te, _ = roc_curve(y_test, pred_lr_te_proba)\n",
    "plt.plot(lr_fpr_rf_tr, lr_tpr_rf_tr, label = 'Train')\n",
    "plt.plot(lr_fpr_rf_te, lr_tpr_rf_te, label = 'Test')\n",
    "plt.xlabel('False Positive Rate')\n",
    "plt.ylabel('True Positive Rate')\n",
    "plt.legend()\n",
    "plt.show()"
   ]
  },
  {
   "cell_type": "code",
   "execution_count": null,
   "metadata": {},
   "outputs": [],
   "source": []
  },
  {
   "cell_type": "markdown",
   "metadata": {},
   "source": [
    "# SMOTE\n",
    "\n",
    "SMOTE or Synthetic Minority Oversampling Technique is a popular algorithm to creates sythetic observations of the minority class.\n",
    "\n",
    "SVMSMOTE - Variance of SMOTE using SMOTE algorithm.\n",
    "\n",
    "SMOTETomek combines undersampling and oversampling using Tomek link (Tomeck links remove unwanted pos and neg classes)"
   ]
  },
  {
   "cell_type": "code",
   "execution_count": 25,
   "metadata": {},
   "outputs": [
    {
     "data": {
      "text/plain": [
       "1    124388\n",
       "0    124388\n",
       "Name: failure, dtype: int64"
      ]
     },
     "execution_count": 25,
     "metadata": {},
     "output_type": "execute_result"
    }
   ],
   "source": [
    "# Applying SMOTE to full dataset\n",
    "sm = SMOTE()\n",
    "\n",
    "X_sm, y_sm = sm.fit_sample(X,y)\n",
    "\n",
    "y_sm['failure'].value_counts()"
   ]
  },
  {
   "cell_type": "code",
   "execution_count": 26,
   "metadata": {},
   "outputs": [
    {
     "data": {
      "text/plain": [
       "0    124388\n",
       "1     49338\n",
       "Name: failure, dtype: int64"
      ]
     },
     "execution_count": 26,
     "metadata": {},
     "output_type": "execute_result"
    }
   ],
   "source": [
    "# Applying SVSMOTE to full dataset\n",
    "svm = SVMSMOTE()\n",
    "\n",
    "X_svm, y_svm = svm.fit_sample(X,y)\n",
    "\n",
    "y_svm['failure'].value_counts()"
   ]
  },
  {
   "cell_type": "code",
   "execution_count": 27,
   "metadata": {},
   "outputs": [],
   "source": [
    "# Applying SVSMOTETomek to full dataset\n",
    "# sm_t = SMOTETomek()\n",
    "\n",
    "# X_sm_t, y_sm_t = sm_t.fit_sample(X,y)\n",
    "\n",
    "# y_sm_t['failure'].value_counts()"
   ]
  },
  {
   "cell_type": "code",
   "execution_count": null,
   "metadata": {},
   "outputs": [],
   "source": []
  },
  {
   "cell_type": "markdown",
   "metadata": {},
   "source": [
    "# Random Forest"
   ]
  },
  {
   "cell_type": "code",
   "execution_count": 28,
   "metadata": {},
   "outputs": [
    {
     "name": "stdout",
     "output_type": "stream",
     "text": [
      "(186582, 1177) (62194, 1177) (186582, 1) (62194, 1)\n"
     ]
    }
   ],
   "source": [
    "# make statify = y for imbalanced dataset\n",
    "X_train_sm, X_test_sm, y_train_sm, y_test_sm = train_test_split(X_sm, y_sm, \n",
    "                              test_size = 0.25 )\n",
    "    \n",
    "print(X_train_sm.shape, X_test_sm.shape, y_train_sm.shape, y_test_sm.shape) "
   ]
  },
  {
   "cell_type": "code",
   "execution_count": 29,
   "metadata": {},
   "outputs": [
    {
     "data": {
      "text/plain": [
       "pandas.core.frame.DataFrame"
      ]
     },
     "execution_count": 29,
     "metadata": {},
     "output_type": "execute_result"
    }
   ],
   "source": [
    "type(X_train_sm)"
   ]
  },
  {
   "cell_type": "code",
   "execution_count": 30,
   "metadata": {},
   "outputs": [
    {
     "data": {
      "text/plain": [
       "RandomForestClassifier(max_depth=5, random_state=42)"
      ]
     },
     "execution_count": 30,
     "metadata": {},
     "output_type": "execute_result"
    }
   ],
   "source": [
    "# Random Forest Model\n",
    "clf_rf = RandomForestClassifier(max_depth= 5,random_state =42)\n",
    "\n",
    "# fit the model\n",
    "X_train_sm = X_train_sm.values\n",
    "y_train_sm = y_train_sm.values.ravel()\n",
    "clf_rf.fit(X_train_sm, y_train_sm)\n"
   ]
  },
  {
   "cell_type": "code",
   "execution_count": 31,
   "metadata": {},
   "outputs": [],
   "source": [
    "# predict the result\n",
    "y_pred_sm = clf_rf.predict(X_test_sm)"
   ]
  },
  {
   "cell_type": "code",
   "execution_count": 32,
   "metadata": {},
   "outputs": [
    {
     "name": "stdout",
     "output_type": "stream",
     "text": [
      "Feature  : 0 and Score = 0.1793185492071733\n",
      "Feature  : 1 and Score = 0.1591865669144235\n",
      "Feature  : 2 and Score = 0.12836475761455468\n",
      "Feature  : 3 and Score = 0.06826054589327406\n",
      "Feature  : 4 and Score = 0.045533787216475746\n",
      "Feature  : 5 and Score = 0.04264977082304422\n",
      "Feature  : 6 and Score = 0.037184201713266994\n",
      "Feature  : 7 and Score = 0.015198007389011307\n",
      "Feature  : 8 and Score = 0.011513571670636578\n",
      "Feature  : 9 and Score = 0.010591316262390385\n"
     ]
    },
    {
     "data": {
      "image/png": "[encoded data removed]",
      "text/plain": [
       "<Figure size 432x288 with 1 Axes>"
      ]
     },
     "metadata": {
      "needs_background": "light"
     },
     "output_type": "display_data"
    }
   ],
   "source": [
    "# plotting the feature importance\n",
    "\n",
    "importance = sorted(clf_rf.feature_importances_, reverse = True)\n",
    "top_list = importance[0:10]\n",
    "\n",
    "for i,v in enumerate(top_list):\n",
    "    print(f'Feature  : {i} and Score = {v}')\n",
    "\n",
    "plt.bar([x for x in range(len(top_list))], top_list)\n",
    "plt.show()\n",
    "\n",
    "# print(top_10)"
   ]
  },
  {
   "cell_type": "code",
   "execution_count": 33,
   "metadata": {},
   "outputs": [
    {
     "name": "stdout",
     "output_type": "stream",
     "text": [
      "tn, fp, fn, tp [[24868    21]\n",
      " [   10     0]]\n",
      "              precision    recall  f1-score   support\n",
      "\n",
      "           0       0.95      0.87      0.91     34031\n",
      "           1       0.86      0.94      0.90     28163\n",
      "\n",
      "    accuracy                           0.90     62194\n",
      "   macro avg       0.90      0.91      0.90     62194\n",
      "weighted avg       0.91      0.90      0.90     62194\n",
      "\n"
     ]
    },
    {
     "data": {
      "text/plain": [
       "Text(0.5, 15.0, 'Predicted')"
      ]
     },
     "execution_count": 33,
     "metadata": {},
     "output_type": "execute_result"
    },
    {
     "data": {
      "image/png": "[encoded data removed]",
      "text/plain": [
       "<Figure size 432x288 with 2 Axes>"
      ]
     },
     "metadata": {
      "needs_background": "light"
     },
     "output_type": "display_data"
    }
   ],
   "source": [
    "# confusion matrix on Test\n",
    "'''\n",
    "                    Predicted\n",
    "                  0          1\n",
    "        0         TN         FP\n",
    "Actual \n",
    "        1         FN         TP\n",
    "'''\n",
    "\n",
    "\n",
    "conf_matrix_rf_te = confusion_matrix(y_pred_sm , y_test_sm )\n",
    "print('tn, fp, fn, tp', confusion_matrix(pred_lr_te, y_test ))\n",
    "# print(conf_matrix_lr_tr)\n",
    "\n",
    "conf_matrix_rf_report_te = classification_report(y_pred_sm, y_test_sm )\n",
    "print(conf_matrix_rf_report_te)\n",
    "sns.heatmap(conf_matrix_rf_te, annot=True, fmt = 'd')\n",
    "plt.title('Confusion matrix ')\n",
    "plt.ylabel('Actual label')\n",
    "plt.xlabel('Predicted')"
   ]
  },
  {
   "cell_type": "code",
   "execution_count": 34,
   "metadata": {},
   "outputs": [
    {
     "name": "stdout",
     "output_type": "stream",
     "text": [
      " ROC AUC : {'fit_time': array([100.22269297, 100.94316411,  99.93087578,  99.98222399,\n",
      "        97.97030687]), 'score_time': array([1.72531509, 1.59478092, 1.82572007, 1.819206  , 2.03401804]), 'test_neg_log_loss': array([-0.4991212 , -0.52064482, -0.51565477, -0.51930578, -0.52060159]), 'test_accuracy': array([0.90736126, 0.9069057 , 0.90446457, 0.904009  , 0.90127559]), 'test_roc_auc': array([0.9674722 , 0.96975673, 0.97179232, 0.96666178, 0.96697312]), 'test_precision': array([0.95919599, 0.95113987, 0.96314692, 0.93567015, 0.93322928]), 'test_recall': array([0.85106041, 0.85802271, 0.84125114, 0.8678164 , 0.86455656])}\n",
      "Train neg log is  [-0.4991212  -0.52064482 -0.51565477 -0.51930578 -0.52060159]\n",
      "Train accuracy is  [0.90736126 0.9069057  0.90446457 0.904009   0.90127559]\n",
      "Train precision is  [0.95919599 0.95113987 0.96314692 0.93567015 0.93322928]\n",
      "Train recall is  [0.85106041 0.85802271 0.84125114 0.8678164  0.86455656]\n",
      "Train ROC is  [0.9674722  0.96975673 0.97179232 0.96666178 0.96697312]\n"
     ]
    }
   ],
   "source": [
    "\n",
    "scoring = ['neg_log_loss', 'accuracy', 'roc_auc', 'precision', 'recall']\n",
    "\n",
    "\n",
    "scores_tr = cross_validate(clf_rf, X_train_sm, y_train_sm,scoring = scoring,\n",
    "                          cv =5, n_jobs = -1)\n",
    "\n",
    "# print results\n",
    "print(' ROC AUC :',scores_tr)\n",
    "print('Train neg log is ',scores_tr['test_neg_log_loss'])\n",
    "print('Train accuracy is ',scores_tr['test_accuracy'])\n",
    "print('Train precision is ',scores_tr['test_precision'])\n",
    "print('Train recall is ',scores_tr['test_recall'])\n",
    "print('Train ROC is ',scores_tr['test_roc_auc'])\n"
   ]
  },
  {
   "cell_type": "code",
   "execution_count": 35,
   "metadata": {},
   "outputs": [
    {
     "name": "stdout",
     "output_type": "stream",
     "text": [
      "Train ROC score is  0.96985136578274\n",
      "Test ROC score is  0.9676620458470452\n"
     ]
    }
   ],
   "source": [
    "# ROC caculation\n",
    "pred_rf_tr_proba = clf_rf.predict_proba(X_train_sm)\n",
    "pred_rf_te_proba = clf_rf.predict_proba(X_test_sm)\n",
    "\n",
    "pred_rf_tr_proba[0:10]\n",
    "pred_rf_te_proba[0:10]\n",
    "\n",
    "\n",
    "#only the second column is needed\n",
    "pred_rf_tr_proba_1 = [p[1] for p in pred_rf_tr_proba]\n",
    "pred_rf_te_proba_1 = [p[1] for p in pred_rf_te_proba]\n",
    "\n",
    "\n",
    "roc_acc_rf_tr = roc_auc_score( y_train_sm, pred_rf_tr_proba_1)\n",
    "roc_acc_rf_te = roc_auc_score( y_test_sm, pred_rf_te_proba_1)\n",
    "print('Train ROC score is ', roc_acc_rf_tr)\n",
    "print('Test ROC score is ', roc_acc_rf_te)"
   ]
  },
  {
   "cell_type": "code",
   "execution_count": 36,
   "metadata": {},
   "outputs": [
    {
     "data": {
      "image/png": "[encoded data removed]",
      "text/plain": [
       "<Figure size 432x288 with 1 Axes>"
      ]
     },
     "metadata": {
      "needs_background": "light"
     },
     "output_type": "display_data"
    }
   ],
   "source": [
    "# drawing ROC curve\n",
    "# https://machinelearningmastery.com/roc-curves-and-precision-recall-curves-for-classification-in-python/\n",
    "\n",
    "lr_fpr_rf_tr, lr_tpr_rf_tr, _ = roc_curve(y_train_sm, pred_rf_tr_proba_1)\n",
    "lr_fpr_rf_te, lr_tpr_rf_te, _ = roc_curve(y_test_sm, pred_rf_te_proba_1)\n",
    "plt.plot(lr_fpr_rf_tr, lr_tpr_rf_tr, label = 'Train')\n",
    "plt.plot(lr_fpr_rf_te, lr_tpr_rf_te, label = 'Test')\n",
    "plt.xlabel('False Positive Rate')\n",
    "plt.ylabel('True Positive Rate')\n",
    "plt.legend()\n",
    "plt.show()"
   ]
  },
  {
   "cell_type": "code",
   "execution_count": null,
   "metadata": {},
   "outputs": [],
   "source": []
  },
  {
   "cell_type": "code",
   "execution_count": null,
   "metadata": {},
   "outputs": [],
   "source": []
  },
  {
   "cell_type": "code",
   "execution_count": null,
   "metadata": {},
   "outputs": [],
   "source": []
  },
  {
   "cell_type": "code",
   "execution_count": null,
   "metadata": {},
   "outputs": [],
   "source": []
  }
 ],
 "metadata": {
  "kernelspec": {
   "display_name": "Python 3",
   "language": "python",
   "name": "python3"
  },
  "language_info": {
   "codemirror_mode": {
    "name": "ipython",
    "version": 3
   },
   "file_extension": ".py",
   "mimetype": "text/x-python",
   "name": "python",
   "nbconvert_exporter": "python",
   "pygments_lexer": "ipython3",
   "version": "3.7.6"
  }
 },
 "nbformat": 4,
 "nbformat_minor": 4
}
